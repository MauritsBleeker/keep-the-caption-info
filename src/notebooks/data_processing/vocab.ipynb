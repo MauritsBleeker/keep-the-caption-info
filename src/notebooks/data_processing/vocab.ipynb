{
 "cells": [
  {
   "cell_type": "code",
   "execution_count": 14,
   "id": "a3cd43ac",
   "metadata": {},
   "outputs": [],
   "source": [
    "import sys\n",
    "sys.path.append(\"..\")\n",
    "\n",
    "from nltk.tokenize import word_tokenize\n",
    "import json\n",
    "import os\n",
    "from utils.utils import load_json\n",
    "from data.vocab import Vocabulary, build_vocab\n",
    "import pickle"
   ]
  },
  {
   "cell_type": "code",
   "execution_count": 12,
   "id": "f21e2235",
   "metadata": {},
   "outputs": [],
   "source": [
    "root_folder = 'datasets'\n",
    "\n",
    "coco_root = os.path.join(root_folder, 'coco')\n",
    "f30k_root = os.path.join(root_folder, 'f30k')\n",
    "\n",
    "coco_json = 'dataset_coco.json'\n",
    "f30k_json = 'dataset_flickr30k.json'\n",
    "\n",
    "f30k_image_folder = 'flickr30k_images'\n",
    "coco_image_folder = 'coco_images'"
   ]
  },
  {
   "cell_type": "code",
   "execution_count": 3,
   "id": "e8b4223d",
   "metadata": {},
   "outputs": [],
   "source": [
    "f30k_data = load_json(f30k_root, f30k_json)\n",
    "coco_data = load_json(coco_root, coco_json)"
   ]
  },
  {
   "cell_type": "code",
   "execution_count": 4,
   "id": "c55bea7f",
   "metadata": {},
   "outputs": [],
   "source": [
    "f30k_captions = []\n",
    "for image in f30k_data['images']:\n",
    "    for sentence in image['sentences']:\n",
    "        f30k_captions.append(sentence['raw'])"
   ]
  },
  {
   "cell_type": "code",
   "execution_count": 5,
   "id": "9f8df43d",
   "metadata": {},
   "outputs": [],
   "source": [
    "coco_captions = []\n",
    "for image in coco_data['images']:\n",
    "    for sentence in image['sentences']:\n",
    "        coco_captions.append(sentence['raw'])"
   ]
  },
  {
   "cell_type": "code",
   "execution_count": null,
   "id": "bafde2cb",
   "metadata": {},
   "outputs": [],
   "source": [
    "coco_vocab = build_vocab(coco_captions)\n",
    "\n",
    "with open(os.path.join(coco_root, 'vocab/coco_vocab.pkl'), 'wb') as f:\n",
    "        pickle.dump(coco_vocab, f, pickle.HIGHEST_PROTOCOL)"
   ]
  },
  {
   "cell_type": "code",
   "execution_count": 15,
   "id": "cef83801",
   "metadata": {},
   "outputs": [],
   "source": [
    "with open(os.path.join(coco_root, 'vocab/coco_vocab.pkl'), 'wb') as f:\n",
    "        pickle.dump(coco_vocab, f, pickle.HIGHEST_PROTOCOL)"
   ]
  },
  {
   "cell_type": "code",
   "execution_count": 16,
   "id": "cda809c4",
   "metadata": {},
   "outputs": [
    {
     "name": "stdout",
     "output_type": "stream",
     "text": [
      "Vocabulary size: 20168\n"
     ]
    }
   ],
   "source": [
    "f30k_vocab = build_vocab(f30k_captions)\n",
    "\n",
    "with open(os.path.join(f30k_root, 'vocab/f30k_vocab.pkl'), 'wb') as f:\n",
    "        pickle.dump(f30k_vocab, f, pickle.HIGHEST_PROTOCOL)"
   ]
  },
  {
   "cell_type": "code",
   "execution_count": 18,
   "id": "c409da3e",
   "metadata": {},
   "outputs": [],
   "source": [
    "test = pickle.load(open(os.path.join(coco_root , 'vocab/coco_vocab_pce.pkl'), 'rb'))"
   ]
  },
  {
   "cell_type": "code",
   "execution_count": 19,
   "id": "71baab04",
   "metadata": {},
   "outputs": [
    {
     "data": {
      "text/plain": [
       "3"
      ]
     },
     "execution_count": 19,
     "metadata": {},
     "output_type": "execute_result"
    }
   ],
   "source": [
    "len(test)"
   ]
  },
  {
   "cell_type": "code",
   "execution_count": 21,
   "id": "5b578f4e",
   "metadata": {},
   "outputs": [
    {
     "data": {
      "text/plain": [
       "11755"
      ]
     },
     "execution_count": 21,
     "metadata": {},
     "output_type": "execute_result"
    }
   ],
   "source": [
    "len(test['idx2word'])"
   ]
  },
  {
   "cell_type": "code",
   "execution_count": null,
   "id": "339c4966",
   "metadata": {},
   "outputs": [],
   "source": []
  }
 ],
 "metadata": {
  "kernelspec": {
   "display_name": "Python 3 (ipykernel)",
   "language": "python",
   "name": "python3"
  },
  "language_info": {
   "codemirror_mode": {
    "name": "ipython",
    "version": 3
   },
   "file_extension": ".py",
   "mimetype": "text/x-python",
   "name": "python",
   "nbconvert_exporter": "python",
   "pygments_lexer": "ipython3",
   "version": "3.7.11"
  }
 },
 "nbformat": 4,
 "nbformat_minor": 5
}
